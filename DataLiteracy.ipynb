{
 "nbformat": 4,
 "nbformat_minor": 2,
 "metadata": {
  "language_info": {
   "name": "python",
   "codemirror_mode": {
    "name": "ipython",
    "version": 3
   },
   "version": "3.8.0"
  },
  "orig_nbformat": 2,
  "file_extension": ".py",
  "mimetype": "text/x-python",
  "name": "python",
  "npconvert_exporter": "python",
  "pygments_lexer": "ipython3",
  "version": 3
 },
 "cells": [
  {
   "cell_type": "markdown",
   "execution_count": null,
   "metadata": {},
   "outputs": [],
   "source": [
    "<div>\n",
    "    <center><h1 style=\"color:#ff6257\">BETİMSEL İSTATİSTİKLER</h1></center><br>   \n",
    "    <p style=\"color:#7bbec9\">1) Temel Kavramlar</p><br>\n",
    "    \n",
    "    &nbsp;* Örneklem ve Anakitle<br>\n",
    "    &nbsp;* Gözlem Birimi<br>\n",
    "    &nbsp;* Rastgelelik<br>\n",
    "    &nbsp;* Değişkenlik<br>\n",
    "    &nbsp;* Değişkenler, Değişken Türleri ve Ölçek Türleri<br>\n",
    "    &nbsp;* Rastgele Değişken<br>\n",
    "    &nbsp;* Hipotezler ve İstatistiksel Anlam<br>\n",
    "</div>"
   ]
  },
  {
   "cell_type": "markdown",
   "execution_count": null,
   "metadata": {},
   "outputs": [],
   "source": [
    "<p style=\"color:#83ff73\">Veri ile temas ettiğimiz ilk anlardaki basit veri yorumlama kabiliyetlerine VERİ OKURYAZARLIĞI denir.</p>\n",
    "<p style=\"color:#83ff73\">Araştırmanın odağında olan birimlere  (satır olarak da adlandırılan değerlere) GÖZLEM BİRİMLERİ denir.</p>\n",
    "<p style=\"color:#83ff73\">İlgilenilen olay ya da yapının doğal yapısında olmasına RASTGELE denir.</p>\n",
    "<p style=\"color:#83ff73\">RASSALLIK günümüzde kullandığımız makine öğrenmesi algoritmalarının başarılı olmasını sağlayan önemli konulardan birisidir.</p>\n",
    "<p style=\"color:#83ff73\">İlgilenilen kitle içerisinden çekilen alt kümeye ÖRNEKLEM, örnek seçme işlemine ÖRNEKLEME denir.</p>"
   ]
  },
  {
   "cell_type": "markdown",
   "execution_count": null,
   "metadata": {},
   "outputs": [],
   "source": [
    "<div>\n",
    "    <center><h1 style=\"color:#c556f5\">DEĞİŞKEN & ÖLÇEK TÜRLERİ</center>\n",
    "    <p style=\"color:#7bbec9\">1) Değişken Türleri</p><br>\n",
    "    &nbsp;*Sayısal Değişkenler (nicel, kantitatif)<br>\n",
    "    &nbsp;*Kategorik Değişkenler (nitel, kalitatif)\n",
    "    \n",
    "    <p style=\"color:#7bbec9\">2) Ölçek Türleri</p>\n",
    "    \n",
    "    &nbsp;*Sayısal Değişkenler İçin (Aralık ve Oran)<br>\n",
    "    &nbsp;*Kategorik Değişkenler İçin (Nominal ve Ordinal)<br>\n",
    "     &nbsp;&nbsp;-Nominal: sınıflar arası fark olmayan.<br>\n",
    "     &nbsp;&nbsp;-Ordinal: sınıflar arası fark olan.\n",
    "</div>\n"
   ]
  },
  {
   "cell_type": "markdown",
   "execution_count": null,
   "metadata": {},
   "outputs": [],
   "source": [
    "<p style=\"color:#83ff73\">Birimden birime farklı değerler alan niceliklere DEĞİŞKEN denir.</p>\n",
    "<p style=\"color:#83ff73\">Değerlerini bir deneyin sonuçlarından alan değişkenlere RASTGELE DEĞİŞKEN denir.</p>\n",
    "<p style=\"color:#83ff73\">“Cinsiyet” isimli değişkenin türü KATEGORİK dir.</p>\n",
    "<p style=\"color:#83ff73\">“Üniversite Sınıfı” değişkeninin değişken türü ve ölçek türü KATEGORİK ve ORDİNAL dir.</p>\n",
    "<p style=\"color:#83ff73\">“Yaş” değişkeninin ölçek türü ORAN dır.</p>\n",
    "<p style=\"color:#83ff73\">“Askeri Rütbe” değişkeninin değişken türü ve ölçek türü KATEGORİK ve ORDİNAL dir.</p>\n",
    "<p style=\"color:#83ff73\">Başlangıç noktasının sıfır olduğu ölçek türü ORAN dır.\n",
    "<p style=\"color:#83ff73\">Bir kategorik değişkenin sınıfları arasında fark olması durumunda bu değişkenin ölçek türü ORDİNAL dir.</p>"
   ]
  },
  {
   "cell_type": "markdown",
   "execution_count": null,
   "metadata": {},
   "outputs": [],
   "source": [
    "<div>\n",
    "    <center><h1 style=\"color:#70d4ff\">MERKEZİ EĞİLİM ÖLÇÜLERİ</center>\n",
    "    \n",
    "    <p style=\"color:#7bbec9\">1) Aritmetik Ortalama</p>\n",
    "    *Tüm değerlerin toplanıp toplam değere bölünmesi.\n",
    "    \n",
    "    <p style=\"color:#7bbec9\">2) Medyan</p>\n",
    "    *Tüm değerlerin küçükten büyüğe veya büyükten küçüğe doğru sıralandığında\n",
    "    tam olarak ortada olan değerdir.\n",
    "    Eğer ortadaki değer iki tane ise değerler toplanıp 2 ye bölünür.\n",
    "    \n",
    "    <p style=\"color:#7bbec9\">3) Mod</p>\n",
    "    *Değerlerin içerisinde en sık tekrar eden değerdir.\n",
    "    \n",
    "    <p style=\"color:#7bbec9\">4) Kartiller</p>\n",
    "    *Değerler sıralandığında sırasıyla %25, %50 ve %75 lik oranların bir değere     denk gelmesidir. (Q1, Q2, Q3 ile gösterilir).\n",
    "</div>"
   ]
  },
  {
   "cell_type": "markdown",
   "execution_count": null,
   "metadata": {},
   "outputs": [],
   "source": [
    "<div>\n",
    "    <center><h1 style=\"color:#ffec73\">DAĞILIM ÖLÇÜLERİ</center>\n",
    "    \n",
    "    <p style=\"color:#7bbec9\">1) Değişim Aralığı</p>\n",
    "    \n",
    "    * Max Değer - Min Değer\n",
    "    \n",
    "    <p style=\"color:#7bbec9\">2) Standart Sapma</p>\n",
    "    \n",
    "    * Ortalamaların etrafındaki sapmalardır (x  x-a  x+a)\n",
    "    \n",
    "    <p style=\"color:#7bbec9\">3) Varyans</p>\n",
    "    \n",
    "    * standart sapmanın karesidir\n",
    "\n",
    "</div>\n"
   ]
  },
  {
   "cell_type": "markdown",
   "execution_count": null,
   "metadata": {},
   "outputs": [],
   "source": [
    "<div>\n",
    "    <center><h1 style=\"color:#73ff7a\">BASIKLIK & ÇARPIKLIK</center>\n",
    "    <p style=\"color:#7bbec9\">1) Çarpıklık</p>\n",
    "    * Değerlerin belirli bir tarafta kümelenmiş olmasıdır.\n",
    "    \n",
    "    <p style=\"color:#7bbec9\">2) Basıklık </p>\n",
    "    * Aynı ortalama değerlerine sahip olup varyansın artmasıdır.(Varyans arttıkça basıklık artar)\n",
    "</div>"
   ]
  },
  {
   "cell_type": "markdown",
   "execution_count": null,
   "metadata": {},
   "outputs": [],
   "source": [
    "<div>\n",
    "    <center><h1 style=\"color:#ff5ebf\">İstatistiksel Düşünce Modelleri</center>\n",
    "     <p style=\"color:#7bbec9\">1) Mooney Modeli</p>\n",
    "     &nbsp;* Verinin tanımlanması.<br>\n",
    "     &nbsp;* Verinin organize edilmesi ve indirgenmesi.<br>\n",
    "     &nbsp;* Veri gösterimi.<br>\n",
    "     &nbsp;* Verinin analiz edilmesi ve yorumlanması.\n",
    "</div>\n",
    "\n"
   ]
  },
  {
   "cell_type": "markdown",
   "execution_count": null,
   "metadata": {},
   "outputs": [],
   "source": []
  },
  {
   "cell_type": "markdown",
   "execution_count": null,
   "metadata": {},
   "outputs": [],
   "source": [
    "<div>\n",
    "    <center><h2 style=\"color: #ff7b00\">SORU</h2>\n",
    "    <p>Bir şirket internet kullanımı ile ilgili yaptığı araştırmada şu açıklamaları yayınlamıştır:\n",
    "    Anketi yanıtlayan 2000 kişinin %43.4 ünü erkekler, %66,4'sini kadınlar oluşturmaktadır.<br>\n",
    "    Anketi yanıtlayanların %80'i 15-27 yaş aralığındadır. Kadınların %72'si İngilizce bilmektedir. Erkekler günde ortalama 3 saat, kadınlar ise 4 saat internette zaman geçirmektedir. Erkeklerin %72'si kadınların ise %75'i üniversite mezunudur.\n",
    "    </p>\n",
    "    <h4 style=\"color: #ec82ff\">A.Çalışmada ölçülmeye çalışılan değerler nelerdir?</h4>\n",
    "    \n",
    "    <p>Cinsiyet</p>\n",
    "    <p>Yaş</p>\n",
    "    <p>Dil</p>\n",
    "    <p>İnternette geçirilen süre</p>\n",
    "    <p>Eğitim durumu</p>\n",
    "    \n",
    "    <h4 style=\"color: #1cff9d\">B.Değişkenlerin türleri nelerdir?</h4>\n",
    "    <p>Cinsiyet --> Kategorik Değişken</p>\n",
    "    <p>Yaş --> Sayısal Değişken</p>\n",
    "    <p>Dil --> Kategorik Değişken</p>\n",
    "    <p>İnternette geçirilen süre --> Sayısal Değişken</p>\n",
    "    <p>Eğitim Durumu --> Kategorik Değişken</p>\n",
    "    \n",
    "    <h4 style=\"color: #c2ff40\">C.Belirlediğinin değişkenlerin hangi ölçekle ölçüldüğünü belirtiniz?</h4>\n",
    "    <p>Cinsiyet --> Kategorik Değişken --> Nominal</p>\n",
    "    <p>Yaş --> Sayısal Değişken --> Oran</p>\n",
    "    <p>Dil --> Kategorik Değişken --> Kategorik Değişken </p>\n",
    "    <p>İnternette geçirilen süre --> Sayısal Değişken --> Oran</p>\n",
    "    <p>Eğitim Durumu --> Kategorik Değişken --> Ordinal</p>\n",
    "    \n",
    "    <h4 style=\"color: #5cceff\">D.Bu veri seti üzerinde yorum yapınız.</h4>\n",
    "    <p>Metnin sunum şekli yanlıştır. Kadınların %72 si neye göre İngilizce biliyor açıklanmamış</p>\n",
    "    <p>Oranlar tutarsız.</p>\n",
    "    <p>Erkekler ile Kadınların oranları birbirine yakın değil.</p>\n",
    "    <p>15-27 yaş aralığı internet kullanımı bakımından incelenmesi doğru bir hedeftir ancak %80 biraz abartılı bir oran olabilir.</p>\n",
    "    \n",
    "    <h4 style=\"color: #ff6969\">E.Metinde bir anormallik var mıdır?</h4>\n",
    "    <p>Oranlar tutarsız.</p>\n",
    "    </center>\n",
    "\n",
    "</div>"
   ]
  },
  {
   "cell_type": "code",
   "execution_count": null,
   "metadata": {},
   "outputs": [],
   "source": []
  }
 ]
}